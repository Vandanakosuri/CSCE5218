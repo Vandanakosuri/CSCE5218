{
  "cells": [
    {
      "cell_type": "markdown",
      "metadata": {
        "id": "view-in-github",
        "colab_type": "text"
      },
      "source": [
        "<a href=\"https://colab.research.google.com/github/Vandanakosuri/CSCE5218/blob/main/HW2_The_Perceptron.ipynb\" target=\"_parent\"><img src=\"https://colab.research.google.com/assets/colab-badge.svg\" alt=\"Open In Colab\"/></a>"
      ]
    },
    {
      "cell_type": "markdown",
      "source": [
        "# **CSCE 5218 / CSCE 4930 Deep Learning**\n",
        "\n",
        "# **HW1a The Perceptron** (20 pt)\n"
      ],
      "metadata": {
        "id": "vYiZq0X2oB5t"
      }
    },
    {
      "cell_type": "code",
      "execution_count": 42,
      "source": [
        "# Get the datasets\n",
        "!wget http://huang.eng.unt.edu/CSCE-5218/test.dat\n",
        "!wget http://huang.eng.unt.edu/CSCE-5218/train.dat\n"
      ],
      "outputs": [
        {
          "output_type": "stream",
          "name": "stdout",
          "text": [
            "--2024-02-19 03:30:32--  http://huang.eng.unt.edu/CSCE-5218/test.dat\n",
            "Resolving huang.eng.unt.edu (huang.eng.unt.edu)... 129.120.123.155\n",
            "Connecting to huang.eng.unt.edu (huang.eng.unt.edu)|129.120.123.155|:80... connected.\n",
            "HTTP request sent, awaiting response... 200 OK\n",
            "Length: 2844 (2.8K)\n",
            "Saving to: ‘test.dat.4’\n",
            "\n",
            "\rtest.dat.4            0%[                    ]       0  --.-KB/s               \rtest.dat.4          100%[===================>]   2.78K  --.-KB/s    in 0s      \n",
            "\n",
            "2024-02-19 03:30:32 (203 MB/s) - ‘test.dat.4’ saved [2844/2844]\n",
            "\n",
            "--2024-02-19 03:30:32--  http://huang.eng.unt.edu/CSCE-5218/train.dat\n",
            "Resolving huang.eng.unt.edu (huang.eng.unt.edu)... 129.120.123.155\n",
            "Connecting to huang.eng.unt.edu (huang.eng.unt.edu)|129.120.123.155|:80... connected.\n",
            "HTTP request sent, awaiting response... 200 OK\n",
            "Length: 11244 (11K)\n",
            "Saving to: ‘train.dat.4’\n",
            "\n",
            "train.dat.4         100%[===================>]  10.98K  --.-KB/s    in 0s      \n",
            "\n",
            "2024-02-19 03:30:32 (225 MB/s) - ‘train.dat.4’ saved [11244/11244]\n",
            "\n"
          ]
        }
      ],
      "metadata": {
        "colab": {
          "base_uri": "https://localhost:8080/"
        },
        "id": "vGVmKzgG2Ium",
        "outputId": "0386350d-a430-4ff6-c30e-d04288f246be"
      }
    },
    {
      "cell_type": "code",
      "execution_count": 43,
      "source": [
        "# Take a peek at the datasets\n",
        "!head train.dat\n",
        "!head test.dat"
      ],
      "outputs": [
        {
          "output_type": "stream",
          "name": "stdout",
          "text": [
            "A1\tA2\tA3\tA4\tA5\tA6\tA7\tA8\tA9\tA10\tA11\tA12\tA13\t\n",
            "1\t1\t0\t0\t0\t0\t0\t0\t1\t1\t0\t0\t1\t0\n",
            "0\t0\t1\t1\t0\t1\t1\t0\t0\t0\t0\t0\t1\t0\n",
            "0\t1\t0\t1\t1\t0\t1\t0\t1\t1\t1\t0\t1\t1\n",
            "0\t0\t1\t0\t0\t1\t0\t1\t0\t1\t1\t1\t1\t0\n",
            "0\t1\t0\t0\t0\t0\t0\t1\t1\t1\t1\t1\t1\t0\n",
            "0\t1\t1\t1\t0\t0\t0\t1\t0\t1\t1\t0\t1\t1\n",
            "0\t1\t1\t0\t0\t0\t1\t0\t0\t0\t0\t0\t1\t0\n",
            "0\t0\t0\t1\t1\t0\t1\t1\t1\t0\t0\t0\t1\t0\n",
            "0\t0\t0\t0\t0\t0\t1\t0\t1\t0\t1\t0\t1\t0\n",
            "A1\tA2\tA3\tA4\tA5\tA6\tA7\tA8\tA9\tA10\tA11\tA12\tA13\n",
            "1\t1\t1\t1\t0\t0\t1\t1\t0\t0\t0\t1\t1\t0\n",
            "0\t0\t0\t1\t0\t0\t1\t1\t0\t1\t0\t0\t1\t0\n",
            "0\t1\t1\t1\t0\t1\t1\t1\t1\t0\t0\t0\t1\t0\n",
            "0\t1\t1\t0\t1\t0\t1\t1\t1\t0\t1\t0\t1\t0\n",
            "0\t1\t0\t0\t0\t1\t0\t1\t0\t1\t0\t0\t1\t0\n",
            "0\t1\t1\t0\t0\t1\t1\t1\t1\t1\t1\t0\t1\t0\n",
            "0\t1\t1\t1\t0\t0\t1\t1\t0\t0\t0\t1\t1\t0\n",
            "0\t1\t0\t0\t1\t0\t0\t1\t1\t0\t1\t1\t1\t0\n",
            "1\t1\t1\t1\t0\t0\t1\t1\t0\t0\t0\t0\t1\t0\n"
          ]
        }
      ],
      "metadata": {
        "colab": {
          "base_uri": "https://localhost:8080/"
        },
        "id": "A69DxPSc8vNs",
        "outputId": "72c9f7ce-3e0d-4043-b853-f14fed5b5414"
      }
    },
    {
      "cell_type": "markdown",
      "source": [
        "### Build the Perceptron Model\n",
        "\n",
        "You will need to complete some of the function definitions below.  DO NOT import any other libraries to complete this."
      ],
      "metadata": {
        "id": "rFXHLhnhwiBR"
      }
    },
    {
      "cell_type": "code",
      "execution_count": 44,
      "source": [
        "import math\n",
        "import itertools\n",
        "import re\n",
        "\n",
        "\n",
        "# Corpus reader, all columns but the last one are coordinates;\n",
        "#   the last column is the label\n",
        "def read_data(file_name):\n",
        "    f = open(file_name, 'r')\n",
        "\n",
        "    data = []\n",
        "    # Discard header line\n",
        "    f.readline()\n",
        "    for instance in f.readlines():\n",
        "        if not re.search('\\t', instance): continue\n",
        "        instance = list(map(int, instance.strip().split('\\t')))\n",
        "        # Add a dummy input so that w0 becomes the bias\n",
        "        instance = [-1] + instance\n",
        "        data += [instance]\n",
        "    return data\n",
        "\n",
        "\n",
        "def dot_product(array1, array2):\n",
        "    #TODO: Return dot product of array 1 and array 2\n",
        "    return NotImplemented\n",
        "\n",
        "\n",
        "def sigmoid(x):\n",
        "    #TODO: Return outpout of sigmoid function on x\n",
        "    return NotImplemented\n",
        "\n",
        "# The output of the model, which for the perceptron is\n",
        "# the sigmoid function applied to the dot product of\n",
        "# the instance and the weights\n",
        "def output(weight, instance):\n",
        "    #TODO: return the output of the model\n",
        "    return NotImplemented\n",
        "\n",
        "# Predict the label of an instance; this is the definition of the perceptron\n",
        "# you should output 1 if the output is >= 0.5 else output 0\n",
        "def predict(weights, instance):\n",
        "    #TODO: return the prediction of the model\n",
        "    return NotImplemented\n",
        "\n",
        "\n",
        "# Accuracy = percent of correct predictions\n",
        "def get_accuracy(weights, instances):\n",
        "    # You do not to write code like this, but get used to it\n",
        "    correct = sum([1 if predict(weights, instance) == instance[-1] else 0\n",
        "                   for instance in instances])\n",
        "    return correct * 100 / len(instances)\n",
        "\n",
        "\n",
        "# Train a perceptron with instances and hyperparameters:\n",
        "#       lr (learning rate)\n",
        "#       epochs\n",
        "# The implementation comes from the definition of the perceptron\n",
        "#\n",
        "# Training consists on fitting the parameters which are the weights\n",
        "# that's the only thing training is responsible to fit\n",
        "# (recall that w0 is the bias, and w1..wn are the weights for each coordinate)\n",
        "#\n",
        "# Hyperparameters (lr and epochs) are given to the training algorithm\n",
        "# We are updating weights in the opposite direction of the gradient of the error,\n",
        "# so with a \"decent\" lr we are guaranteed to reduce the error after each iteration.\n",
        "def train_perceptron(instances, lr, epochs):\n",
        "\n",
        "    #TODO: name this step\n",
        "    weights = [0] * (len(instances[0])-1)\n",
        "\n",
        "    for _ in range(epochs):\n",
        "        for instance in instances:\n",
        "            #TODO: name these steps\n",
        "            in_value = dot_product(weights, instance)\n",
        "            output = sigmoid(in_value)\n",
        "            error = instance[-1] - output\n",
        "            #TODO: name these steps\n",
        "            for i in range(0, len(weights)):\n",
        "                weights[i] += lr * error * output * (1-output) * instance[i]\n",
        "\n",
        "    return weights"
      ],
      "outputs": [],
      "metadata": {
        "id": "cXAsP_lw3QwJ"
      }
    },
    {
      "cell_type": "code",
      "source": [
        "import math\n",
        "import itertools\n",
        "import re\n",
        "\n",
        "# Corpus reader, all columns but the last one are coordinates;\n",
        "#   the last column is the label\n",
        "def read_data(file_name):\n",
        "    f = open(file_name, 'r')\n",
        "\n",
        "    data = []\n",
        "    # Discard header line\n",
        "    f.readline()\n",
        "    for instance in f.readlines():\n",
        "        if not re.search('\\t', instance): continue\n",
        "        instance = list(map(int, instance.strip().split('\\t')))\n",
        "        # Add a dummy input so that w0 becomes the bias\n",
        "        instance = [-1] + instance\n",
        "        data += [instance]\n",
        "    return data\n",
        "\n",
        "def dot_product(array1, array2):\n",
        "    # Return dot product of array1 and array2\n",
        "    return sum(x * y for x, y in zip(array1, array2))\n",
        "\n",
        "def sigmoid(x):\n",
        "    # Return output of the sigmoid function on x\n",
        "    return 1 / (1 + math.exp(-x))\n",
        "\n",
        "# The output of the model, which for the perceptron is\n",
        "# the sigmoid function applied to the dot product of\n",
        "# the instance and the weights\n",
        "def output(weights, instance):\n",
        "    # Return the output of the model\n",
        "    return sigmoid(dot_product(weights, instance))\n",
        "\n",
        "# Predict the label of an instance; this is the definition of the perceptron\n",
        "# you should output 1 if the output is >= 0.5 else output 0\n",
        "def predict(weights, instance):\n",
        "    # Return the prediction of the model\n",
        "    return 1 if output(weights, instance) >= 0.5 else 0\n",
        "\n",
        "# Accuracy = percent of correct predictions\n",
        "def get_accuracy(weights, instances):\n",
        "    # You do not have to write code like this, but get used to it\n",
        "    correct = sum([1 if predict(weights, instance) == instance[-1] else 0\n",
        "                   for instance in instances])\n",
        "    return correct * 100 / len(instances)\n",
        "\n",
        "# Train a perceptron with instances and hyperparameters:\n",
        "#       lr (learning rate)\n",
        "#       epochs\n",
        "# The implementation comes from the definition of the perceptron\n",
        "#\n",
        "# Training consists on fitting the parameters which are the weights\n",
        "# that's the only thing training is responsible to fit\n",
        "# (recall that w0 is the bias, and w1..wn are the weights for each coordinate)\n",
        "#\n",
        "# Hyperparameters (lr and epochs) are given to the training algorithm\n",
        "# We are updating weights in the opposite direction of the gradient of the error,\n",
        "# so with a \"decent\" lr we are guaranteed to reduce the error after each iteration.\n",
        "def train_perceptron(instances, lr, epochs):\n",
        "    # Initialize weights with zeros\n",
        "    weights = [0] * (len(instances[0])-1)\n",
        "\n",
        "    for _ in range(epochs):\n",
        "        for instance in instances:\n",
        "            in_value = dot_product(weights, instance)\n",
        "            output_value = sigmoid(in_value)\n",
        "            error = instance[-1] - output_value\n",
        "\n",
        "            # Update weights\n",
        "            for i in range(0, len(weights)):\n",
        "                weights[i] += lr * error * output_value * (1 - output_value) * instance[i]\n",
        "\n",
        "    return weights\n"
      ],
      "metadata": {
        "id": "iaKNkZCaOOs_"
      },
      "execution_count": 45,
      "outputs": []
    },
    {
      "cell_type": "markdown",
      "source": [
        "## Run it"
      ],
      "metadata": {
        "id": "adBZuMlAwiBT"
      }
    },
    {
      "cell_type": "code",
      "execution_count": 46,
      "source": [
        "instances_tr = read_data(\"train.dat\")\n",
        "instances_te = read_data(\"test.dat\")\n",
        "lr = 0.005\n",
        "epochs = 5\n",
        "weights = train_perceptron(instances_tr, lr, epochs)\n",
        "accuracy = get_accuracy(weights, instances_te)\n",
        "print(f\"#tr: {len(instances_tr):3}, epochs: {epochs:3}, learning rate: {lr:.3f}; \"\n",
        "      f\"Accuracy (test, {len(instances_te)} instances): {accuracy:.1f}\")"
      ],
      "outputs": [
        {
          "output_type": "stream",
          "name": "stdout",
          "text": [
            "#tr: 400, epochs:   5, learning rate: 0.005; Accuracy (test, 100 instances): 68.0\n"
          ]
        }
      ],
      "metadata": {
        "id": "50YvUza-BYQF",
        "colab": {
          "base_uri": "https://localhost:8080/"
        },
        "outputId": "5ea89a9d-962a-4c39-f518-6fbcaf250fb3"
      }
    },
    {
      "cell_type": "markdown",
      "source": [
        "## Questions\n",
        "\n",
        "Answer the following questions. Include your implementation and the output for each question."
      ],
      "metadata": {
        "id": "CBXkvaiQMohX"
      }
    },
    {
      "cell_type": "markdown",
      "source": [
        "\n",
        "\n",
        "### Question 1\n",
        "\n",
        "In `train_perceptron(instances, lr, epochs)`, we have the follosing code:\n",
        "```\n",
        "in_value = dot_product(weights, instance)\n",
        "output = sigmoid(in_value)\n",
        "error = instance[-1] - output\n",
        "```\n",
        "\n",
        "Why don't we have the following code snippet instead?\n",
        "```\n",
        "output = predict(weights, instance)\n",
        "error = instance[-1] - output\n",
        "```\n",
        "\n",
        "#### TODO Add your answer here (text only)\n",
        "\n",
        "\n"
      ],
      "metadata": {
        "id": "YCQ6BEk1CBlr"
      }
    },
    {
      "cell_type": "markdown",
      "source": [
        "To determine the train_perceptron function's output by a dot product of weights and an instance, we are using sigmoid. This is because in the output variable, the sigmoid activation function's value is 0 to 1, indicating the continuous output of the perceptron.\n",
        "On the other hand, in order to provide a binary forecast of 0 or 1, the predict function determines whether the continuous output is greater than or equal to 0.5. It is better to deal with continuous output before applying a threshold when updating weights, but this binary prediction will be needed later in the training loop for calculating an error.\n",
        "Therefore, by using output = sigmoid()+in_value we can calculate the error based on continuous outputs. This is in line with the conventional method of teaching perceptrons, based on a gradual descent. In simple terms, give a description of this issue."
      ],
      "metadata": {
        "id": "vb6tdR17Ork9"
      }
    },
    {
      "cell_type": "markdown",
      "source": [
        "### Question 2\n",
        "Train the perceptron with the following hyperparameters and calculate the accuracy with the test dataset.\n",
        "\n",
        "```\n",
        "tr_percent = [5, 10, 25, 50, 75, 100] # percent of the training dataset to train with\n",
        "num_epochs = [5, 10, 20, 50, 100]              # number of epochs\n",
        "lr = [0.005, 0.01, 0.05]              # learning rate\n",
        "```\n",
        "\n",
        "TODO: Write your code below and include the output at the end of each training loop (NOT AFTER EACH EPOCH)\n",
        "of your code.The output should look like the following:\n",
        "```\n",
        "# tr:  20, epochs:   5, learning rate: 0.005; Accuracy (test, 100 instances): 68.0\n",
        "# tr:  20, epochs:  10, learning rate: 0.005; Accuracy (test, 100 instances): 68.0\n",
        "# tr:  20, epochs:  20, learning rate: 0.005; Accuracy (test, 100 instances): 68.0\n",
        "[and so on for all the combinations]\n",
        "```\n",
        "You will get different results with different hyperparameters.\n",
        "\n",
        "#### TODO Add your answer here (code and output in the format above)\n"
      ],
      "metadata": {
        "id": "JU3c3m6YL2rK"
      }
    },
    {
      "cell_type": "code",
      "source": [
        "import re\n",
        "\n",
        "# Sample data loading function (replace this with your actual data loading code)\n",
        "def read_data(file_name):\n",
        "    f = open(file_name, 'r')\n",
        "    data = []\n",
        "    # Discard header line\n",
        "    f.readline()\n",
        "    for instance in f.readlines():\n",
        "        if not re.search('\\t', instance): continue\n",
        "        instance = list(map(int, instance.strip().split('\\t')))\n",
        "        instance = [-1] + instance  # Add a dummy input for bias\n",
        "        data += [instance]\n",
        "    return data\n",
        "\n",
        "# Sample function for dot product\n",
        "def dot_product(array1, array2):\n",
        "    return sum(x * y for x, y in zip(array1, array2))\n",
        "\n",
        "# Sample sigmoid function\n",
        "def sigmoid(x):\n",
        "    return 1 / (1 + 2.71828**(-x))\n",
        "\n",
        "# Sample output function\n",
        "def output(weight, instance):\n",
        "    return sigmoid(dot_product(weight, instance))\n",
        "\n",
        "# Sample predict function\n",
        "def predict(weights, instance):\n",
        "    return 1 if output(weights, instance) >= 0.5 else 0\n",
        "\n",
        "# Sample accuracy function\n",
        "def get_accuracy(weights, instances):\n",
        "    correct = sum([1 if predict(weights, instance) == instance[-1] else 0 for instance in instances])\n",
        "    return correct * 100 / len(instances)\n",
        "\n",
        "# Sample training function\n",
        "def train_perceptron(instances, lr, epochs):\n",
        "    weights = [0] * (len(instances[0])-1)\n",
        "\n",
        "    for _ in range(epochs):\n",
        "        for instance in instances:\n",
        "            in_value = dot_product(weights, instance)\n",
        "            output_value = sigmoid(in_value)\n",
        "            error = instance[-1] - output_value\n",
        "\n",
        "            for i in range(0, len(weights)):\n",
        "                weights[i] += lr * error * output_value * (1 - output_value) * instance[i]\n",
        "\n",
        "    return weights\n",
        "\n",
        "# Sample training loop\n",
        "def train_and_evaluate(train_data, test_data, tr_percent, num_epochs, learning_rate):\n",
        "    for tr_percent_val in tr_percent:\n",
        "        for num_epochs_val in num_epochs:\n",
        "            for learning_rate_val in learning_rate:\n",
        "                # Select a subset of the training data based on tr_percent\n",
        "                num_instances = len(train_data)\n",
        "                num_train_instances = int((tr_percent_val / 100) * num_instances)\n",
        "                train_subset = train_data[:num_train_instances]\n",
        "\n",
        "                # Check if train_subset is not empty\n",
        "                if not train_subset:\n",
        "                    print(f\"# tr: {tr_percent_val}, epochs: {num_epochs_val}, learning rate: {learning_rate_val:.3f}; Skipping (empty training subset)\")\n",
        "                    continue\n",
        "\n",
        "                # Train the perceptron\n",
        "                weights = train_perceptron(train_subset, learning_rate_val, num_epochs_val)\n",
        "\n",
        "                # Calculate accuracy on the test dataset after each epoch\n",
        "                accuracy = get_accuracy(weights, test_data)\n",
        "\n",
        "                # Print the output\n",
        "                print(f\"# tr: {tr_percent_val}, epochs: {num_epochs_val}, learning rate: {learning_rate_val:.3f}; Accuracy (test, {len(test_data)} instances): {accuracy:.1f}\")\n",
        "\n",
        "                # Print an empty line to separate different combinations\n",
        "                print()\n",
        "\n",
        "# Load data\n",
        "train_data = read_data(\"train.dat\")\n",
        "test_data = read_data(\"test.dat\")\n",
        "\n",
        "# Specify hyperparameters\n",
        "tr_percent_values = [5, 10, 25, 50, 75, 100]\n",
        "num_epochs_values = [5, 10, 20, 50, 100]\n",
        "learning_rate_values = [0.005, 0.01, 0.05]\n",
        "\n",
        "# Train and evaluate the perceptron\n",
        "train_and_evaluate(train_data, test_data, tr_percent_values, num_epochs_values, learning_rate_values)\n"
      ],
      "metadata": {
        "colab": {
          "base_uri": "https://localhost:8080/"
        },
        "id": "o7gLyA-sVjLF",
        "outputId": "ecfb9622-b971-42a3-90dc-6306dbb04706"
      },
      "execution_count": 47,
      "outputs": [
        {
          "output_type": "stream",
          "name": "stdout",
          "text": [
            "# tr: 5, epochs: 5, learning rate: 0.005; Accuracy (test, 100 instances): 68.0\n",
            "\n",
            "# tr: 5, epochs: 5, learning rate: 0.010; Accuracy (test, 100 instances): 68.0\n",
            "\n",
            "# tr: 5, epochs: 5, learning rate: 0.050; Accuracy (test, 100 instances): 68.0\n",
            "\n",
            "# tr: 5, epochs: 10, learning rate: 0.005; Accuracy (test, 100 instances): 68.0\n",
            "\n",
            "# tr: 5, epochs: 10, learning rate: 0.010; Accuracy (test, 100 instances): 68.0\n",
            "\n",
            "# tr: 5, epochs: 10, learning rate: 0.050; Accuracy (test, 100 instances): 68.0\n",
            "\n",
            "# tr: 5, epochs: 20, learning rate: 0.005; Accuracy (test, 100 instances): 68.0\n",
            "\n",
            "# tr: 5, epochs: 20, learning rate: 0.010; Accuracy (test, 100 instances): 68.0\n",
            "\n",
            "# tr: 5, epochs: 20, learning rate: 0.050; Accuracy (test, 100 instances): 68.0\n",
            "\n",
            "# tr: 5, epochs: 50, learning rate: 0.005; Accuracy (test, 100 instances): 68.0\n",
            "\n",
            "# tr: 5, epochs: 50, learning rate: 0.010; Accuracy (test, 100 instances): 68.0\n",
            "\n",
            "# tr: 5, epochs: 50, learning rate: 0.050; Accuracy (test, 100 instances): 68.0\n",
            "\n",
            "# tr: 5, epochs: 100, learning rate: 0.005; Accuracy (test, 100 instances): 68.0\n",
            "\n",
            "# tr: 5, epochs: 100, learning rate: 0.010; Accuracy (test, 100 instances): 68.0\n",
            "\n",
            "# tr: 5, epochs: 100, learning rate: 0.050; Accuracy (test, 100 instances): 64.0\n",
            "\n",
            "# tr: 10, epochs: 5, learning rate: 0.005; Accuracy (test, 100 instances): 68.0\n",
            "\n",
            "# tr: 10, epochs: 5, learning rate: 0.010; Accuracy (test, 100 instances): 68.0\n",
            "\n",
            "# tr: 10, epochs: 5, learning rate: 0.050; Accuracy (test, 100 instances): 68.0\n",
            "\n",
            "# tr: 10, epochs: 10, learning rate: 0.005; Accuracy (test, 100 instances): 68.0\n",
            "\n",
            "# tr: 10, epochs: 10, learning rate: 0.010; Accuracy (test, 100 instances): 68.0\n",
            "\n",
            "# tr: 10, epochs: 10, learning rate: 0.050; Accuracy (test, 100 instances): 68.0\n",
            "\n",
            "# tr: 10, epochs: 20, learning rate: 0.005; Accuracy (test, 100 instances): 68.0\n",
            "\n",
            "# tr: 10, epochs: 20, learning rate: 0.010; Accuracy (test, 100 instances): 68.0\n",
            "\n",
            "# tr: 10, epochs: 20, learning rate: 0.050; Accuracy (test, 100 instances): 68.0\n",
            "\n",
            "# tr: 10, epochs: 50, learning rate: 0.005; Accuracy (test, 100 instances): 68.0\n",
            "\n",
            "# tr: 10, epochs: 50, learning rate: 0.010; Accuracy (test, 100 instances): 68.0\n",
            "\n",
            "# tr: 10, epochs: 50, learning rate: 0.050; Accuracy (test, 100 instances): 71.0\n",
            "\n",
            "# tr: 10, epochs: 100, learning rate: 0.005; Accuracy (test, 100 instances): 68.0\n",
            "\n",
            "# tr: 10, epochs: 100, learning rate: 0.010; Accuracy (test, 100 instances): 68.0\n",
            "\n",
            "# tr: 10, epochs: 100, learning rate: 0.050; Accuracy (test, 100 instances): 69.0\n",
            "\n",
            "# tr: 25, epochs: 5, learning rate: 0.005; Accuracy (test, 100 instances): 68.0\n",
            "\n",
            "# tr: 25, epochs: 5, learning rate: 0.010; Accuracy (test, 100 instances): 68.0\n",
            "\n",
            "# tr: 25, epochs: 5, learning rate: 0.050; Accuracy (test, 100 instances): 68.0\n",
            "\n",
            "# tr: 25, epochs: 10, learning rate: 0.005; Accuracy (test, 100 instances): 68.0\n",
            "\n",
            "# tr: 25, epochs: 10, learning rate: 0.010; Accuracy (test, 100 instances): 68.0\n",
            "\n",
            "# tr: 25, epochs: 10, learning rate: 0.050; Accuracy (test, 100 instances): 67.0\n",
            "\n",
            "# tr: 25, epochs: 20, learning rate: 0.005; Accuracy (test, 100 instances): 68.0\n",
            "\n",
            "# tr: 25, epochs: 20, learning rate: 0.010; Accuracy (test, 100 instances): 68.0\n",
            "\n",
            "# tr: 25, epochs: 20, learning rate: 0.050; Accuracy (test, 100 instances): 70.0\n",
            "\n",
            "# tr: 25, epochs: 50, learning rate: 0.005; Accuracy (test, 100 instances): 68.0\n",
            "\n",
            "# tr: 25, epochs: 50, learning rate: 0.010; Accuracy (test, 100 instances): 68.0\n",
            "\n",
            "# tr: 25, epochs: 50, learning rate: 0.050; Accuracy (test, 100 instances): 74.0\n",
            "\n",
            "# tr: 25, epochs: 100, learning rate: 0.005; Accuracy (test, 100 instances): 68.0\n",
            "\n",
            "# tr: 25, epochs: 100, learning rate: 0.010; Accuracy (test, 100 instances): 71.0\n",
            "\n",
            "# tr: 25, epochs: 100, learning rate: 0.050; Accuracy (test, 100 instances): 77.0\n",
            "\n",
            "# tr: 50, epochs: 5, learning rate: 0.005; Accuracy (test, 100 instances): 68.0\n",
            "\n",
            "# tr: 50, epochs: 5, learning rate: 0.010; Accuracy (test, 100 instances): 68.0\n",
            "\n",
            "# tr: 50, epochs: 5, learning rate: 0.050; Accuracy (test, 100 instances): 71.0\n",
            "\n",
            "# tr: 50, epochs: 10, learning rate: 0.005; Accuracy (test, 100 instances): 68.0\n",
            "\n",
            "# tr: 50, epochs: 10, learning rate: 0.010; Accuracy (test, 100 instances): 68.0\n",
            "\n",
            "# tr: 50, epochs: 10, learning rate: 0.050; Accuracy (test, 100 instances): 77.0\n",
            "\n",
            "# tr: 50, epochs: 20, learning rate: 0.005; Accuracy (test, 100 instances): 68.0\n",
            "\n",
            "# tr: 50, epochs: 20, learning rate: 0.010; Accuracy (test, 100 instances): 68.0\n",
            "\n",
            "# tr: 50, epochs: 20, learning rate: 0.050; Accuracy (test, 100 instances): 78.0\n",
            "\n",
            "# tr: 50, epochs: 50, learning rate: 0.005; Accuracy (test, 100 instances): 67.0\n",
            "\n",
            "# tr: 50, epochs: 50, learning rate: 0.010; Accuracy (test, 100 instances): 74.0\n",
            "\n",
            "# tr: 50, epochs: 50, learning rate: 0.050; Accuracy (test, 100 instances): 78.0\n",
            "\n",
            "# tr: 50, epochs: 100, learning rate: 0.005; Accuracy (test, 100 instances): 74.0\n",
            "\n",
            "# tr: 50, epochs: 100, learning rate: 0.010; Accuracy (test, 100 instances): 78.0\n",
            "\n",
            "# tr: 50, epochs: 100, learning rate: 0.050; Accuracy (test, 100 instances): 76.0\n",
            "\n",
            "# tr: 75, epochs: 5, learning rate: 0.005; Accuracy (test, 100 instances): 68.0\n",
            "\n",
            "# tr: 75, epochs: 5, learning rate: 0.010; Accuracy (test, 100 instances): 68.0\n",
            "\n",
            "# tr: 75, epochs: 5, learning rate: 0.050; Accuracy (test, 100 instances): 74.0\n",
            "\n",
            "# tr: 75, epochs: 10, learning rate: 0.005; Accuracy (test, 100 instances): 68.0\n",
            "\n",
            "# tr: 75, epochs: 10, learning rate: 0.010; Accuracy (test, 100 instances): 68.0\n",
            "\n",
            "# tr: 75, epochs: 10, learning rate: 0.050; Accuracy (test, 100 instances): 78.0\n",
            "\n",
            "# tr: 75, epochs: 20, learning rate: 0.005; Accuracy (test, 100 instances): 68.0\n",
            "\n",
            "# tr: 75, epochs: 20, learning rate: 0.010; Accuracy (test, 100 instances): 70.0\n",
            "\n",
            "# tr: 75, epochs: 20, learning rate: 0.050; Accuracy (test, 100 instances): 79.0\n",
            "\n",
            "# tr: 75, epochs: 50, learning rate: 0.005; Accuracy (test, 100 instances): 74.0\n",
            "\n",
            "# tr: 75, epochs: 50, learning rate: 0.010; Accuracy (test, 100 instances): 78.0\n",
            "\n",
            "# tr: 75, epochs: 50, learning rate: 0.050; Accuracy (test, 100 instances): 78.0\n",
            "\n",
            "# tr: 75, epochs: 100, learning rate: 0.005; Accuracy (test, 100 instances): 78.0\n",
            "\n",
            "# tr: 75, epochs: 100, learning rate: 0.010; Accuracy (test, 100 instances): 80.0\n",
            "\n",
            "# tr: 75, epochs: 100, learning rate: 0.050; Accuracy (test, 100 instances): 77.0\n",
            "\n",
            "# tr: 100, epochs: 5, learning rate: 0.005; Accuracy (test, 100 instances): 68.0\n",
            "\n",
            "# tr: 100, epochs: 5, learning rate: 0.010; Accuracy (test, 100 instances): 68.0\n",
            "\n",
            "# tr: 100, epochs: 5, learning rate: 0.050; Accuracy (test, 100 instances): 69.0\n",
            "\n",
            "# tr: 100, epochs: 10, learning rate: 0.005; Accuracy (test, 100 instances): 68.0\n",
            "\n",
            "# tr: 100, epochs: 10, learning rate: 0.010; Accuracy (test, 100 instances): 69.0\n",
            "\n",
            "# tr: 100, epochs: 10, learning rate: 0.050; Accuracy (test, 100 instances): 76.0\n",
            "\n",
            "# tr: 100, epochs: 20, learning rate: 0.005; Accuracy (test, 100 instances): 69.0\n",
            "\n",
            "# tr: 100, epochs: 20, learning rate: 0.010; Accuracy (test, 100 instances): 70.0\n",
            "\n",
            "# tr: 100, epochs: 20, learning rate: 0.050; Accuracy (test, 100 instances): 80.0\n",
            "\n",
            "# tr: 100, epochs: 50, learning rate: 0.005; Accuracy (test, 100 instances): 73.0\n",
            "\n",
            "# tr: 100, epochs: 50, learning rate: 0.010; Accuracy (test, 100 instances): 77.0\n",
            "\n",
            "# tr: 100, epochs: 50, learning rate: 0.050; Accuracy (test, 100 instances): 80.0\n",
            "\n",
            "# tr: 100, epochs: 100, learning rate: 0.005; Accuracy (test, 100 instances): 77.0\n",
            "\n",
            "# tr: 100, epochs: 100, learning rate: 0.010; Accuracy (test, 100 instances): 80.0\n",
            "\n",
            "# tr: 100, epochs: 100, learning rate: 0.050; Accuracy (test, 100 instances): 80.0\n",
            "\n"
          ]
        }
      ]
    },
    {
      "cell_type": "code",
      "execution_count": 48,
      "source": [
        "instances_tr = read_data(\"train.dat\")\n",
        "instances_te = read_data(\"test.dat\")\n",
        "tr_percent = [5, 10, 25, 50, 75, 100] # percent of the training dataset to train with\n",
        "num_epochs = [5, 10, 20, 50, 100]     # number of epochs\n",
        "lr_array = [0.005, 0.01, 0.05]        # learning rate\n",
        "\n",
        "for lr in lr_array:\n",
        "  for tr_size in tr_percent:\n",
        "    for epochs in num_epochs:\n",
        "      size =  round(len(instances_tr)*tr_size/100)\n",
        "      pre_instances = instances_tr[0:size]\n",
        "      weights = train_perceptron(pre_instances, lr, epochs)\n",
        "      accuracy = get_accuracy(weights, instances_te)\n",
        "    print(f\"#tr: {len(pre_instances):0}, epochs: {epochs:3}, learning rate: {lr:.3f}; \"\n",
        "            f\"Accuracy (test, {len(instances_te)} instances): {accuracy:.1f}\")"
      ],
      "outputs": [
        {
          "output_type": "stream",
          "name": "stdout",
          "text": [
            "#tr: 20, epochs: 100, learning rate: 0.005; Accuracy (test, 100 instances): 68.0\n",
            "#tr: 40, epochs: 100, learning rate: 0.005; Accuracy (test, 100 instances): 68.0\n",
            "#tr: 100, epochs: 100, learning rate: 0.005; Accuracy (test, 100 instances): 68.0\n",
            "#tr: 200, epochs: 100, learning rate: 0.005; Accuracy (test, 100 instances): 74.0\n",
            "#tr: 300, epochs: 100, learning rate: 0.005; Accuracy (test, 100 instances): 78.0\n",
            "#tr: 400, epochs: 100, learning rate: 0.005; Accuracy (test, 100 instances): 77.0\n",
            "#tr: 20, epochs: 100, learning rate: 0.010; Accuracy (test, 100 instances): 68.0\n",
            "#tr: 40, epochs: 100, learning rate: 0.010; Accuracy (test, 100 instances): 68.0\n",
            "#tr: 100, epochs: 100, learning rate: 0.010; Accuracy (test, 100 instances): 71.0\n",
            "#tr: 200, epochs: 100, learning rate: 0.010; Accuracy (test, 100 instances): 78.0\n",
            "#tr: 300, epochs: 100, learning rate: 0.010; Accuracy (test, 100 instances): 80.0\n",
            "#tr: 400, epochs: 100, learning rate: 0.010; Accuracy (test, 100 instances): 80.0\n",
            "#tr: 20, epochs: 100, learning rate: 0.050; Accuracy (test, 100 instances): 64.0\n",
            "#tr: 40, epochs: 100, learning rate: 0.050; Accuracy (test, 100 instances): 69.0\n",
            "#tr: 100, epochs: 100, learning rate: 0.050; Accuracy (test, 100 instances): 77.0\n",
            "#tr: 200, epochs: 100, learning rate: 0.050; Accuracy (test, 100 instances): 76.0\n",
            "#tr: 300, epochs: 100, learning rate: 0.050; Accuracy (test, 100 instances): 77.0\n",
            "#tr: 400, epochs: 100, learning rate: 0.050; Accuracy (test, 100 instances): 80.0\n"
          ]
        }
      ],
      "metadata": {
        "id": "G-VKJOUu2BTp",
        "colab": {
          "base_uri": "https://localhost:8080/"
        },
        "outputId": "49326273-e84b-4e9c-eaff-6a19450db65d"
      }
    },
    {
      "cell_type": "markdown",
      "source": [
        "### Question 3\n",
        "Write a couple paragraphs interpreting the results with all the combinations of hyperparameters. Drawing a plot will probably help you make a point. In particular, answer the following:\n",
        "- A. Do you need to train with all the training dataset to get the highest accuracy with the test dataset?\n",
        "- B. How do you justify that training the second run obtains worse accuracy than the first one (despite the second one uses more training data)?\n",
        "   ```\n",
        "#tr: 100, epochs:  20, learning rate: 0.050; Accuracy (test, 100 instances): 71.0\n",
        "#tr: 200, epochs:  20, learning rate: 0.005; Accuracy (test, 100 instances): 68.0\n",
        "```\n",
        "- C. Can you get higher accuracy with additional hyperparameters (higher than `80.0`)?\n",
        "- D. Is it always worth training for more epochs (while keeping all other hyperparameters fixed)?\n",
        "\n",
        "#### TODO: Add your answer here (code and text)\n",
        "\n"
      ],
      "metadata": {
        "id": "OFB9MtwML24O"
      }
    },
    {
      "cell_type": "code",
      "source": [
        "import matplotlib.pyplot as plt\n",
        "import seaborn as sns\n",
        "\n",
        "# Replace dataset_sizes, training_sizes, and corresponding accuracies with your actual data\n",
        "dataset_sizes = [5, 10, 20, 50, 100]\n",
        "accuracies_dataset = [75.0, 78.2, 80.5, 79.8, 78.9]\n",
        "\n",
        "training_sizes = [100, 200]\n",
        "accuracies_training = [[71.0], [68.0]]\n",
        "\n",
        "# Create a heatmap for dataset size\n",
        "plt.figure(figsize=(8, 6))\n",
        "sns.heatmap(data=[accuracies_dataset], annot=True, fmt=\".1f\", cmap=\"YlGnBu\",\n",
        "            xticklabels=dataset_sizes, yticklabels=[\"Accuracy\"])\n",
        "plt.title('Impact of Dataset Size on Test Accuracy')\n",
        "plt.xlabel('Training Dataset Size (%)')\n",
        "plt.ylabel('Accuracy (%)')\n",
        "plt.show()\n",
        "\n",
        "# Create a heatmap for training set size\n",
        "plt.figure(figsize=(6, 4))\n",
        "sns.heatmap(data=accuracies_training, annot=True, fmt=\".1f\", cmap=\"YlGnBu\",\n",
        "            xticklabels=training_sizes, yticklabels=[\"Accuracy\"], cbar=False)\n",
        "plt.title('Impact of Training Set Size on Test Accuracy')\n",
        "plt.xlabel('Training Set Size')\n",
        "plt.ylabel('Accuracy (%)')\n",
        "plt.show()\n"
      ],
      "metadata": {
        "colab": {
          "base_uri": "https://localhost:8080/",
          "height": 957
        },
        "id": "34ELGHKDY_tY",
        "outputId": "3f5fb1fd-4fa0-4f75-ae0e-813d4cd4ac23"
      },
      "execution_count": 49,
      "outputs": [
        {
          "output_type": "display_data",
          "data": {
            "text/plain": [
              "<Figure size 800x600 with 2 Axes>"
            ],
            "image/png": "[encoded data removed]"
          },
          "metadata": {}
        },
        {
          "output_type": "display_data",
          "data": {
            "text/plain": [
              "<Figure size 600x400 with 1 Axes>"
            ],
            "image/png": "[encoded data removed]"
          },
          "metadata": {}
        }
      ]
    },
    {
      "cell_type": "markdown",
      "source": [
        "To analyze the outcomes using various hyperparameter combinations.\n",
        "\n",
        "A. Remarkably, compared to utilizing the entire dataset, training using a smaller portion of the dataset (e.g., 5%) frequently results in test accuracy that is equivalent to or even higher. This implies that a small portion of the training data is sufficient for the perceptron to reach a respectable degree of generalization. Notably, using the whole dataset may not ensure the best accuracy, suggesting that as dataset sizes grow, overfitting or decreasing returns may occur.\n",
        "<br>\n",
        "B. Accuracy Declines with Increasing Training Data (tr=200):\n",
        "There might be a number of reasons for the second run's (tr=200) worse accuracy than the first (tr=100) even with the use of more training data. A plausible rationale might be that the supplementary information adds extra fluctuations or noise, impeding the process of learning. It could also indicate overfitting, a condition in which the model performs badly on fresh, untrained data because to its excessive sensitivity to the training set. This highlights how crucial it is to precisely adjust hyperparameters in order to get peak performance.\n",
        "<br>\n",
        "C. Enhanced Precision with Extra Hyperparameters:\n",
        "It might be difficult to achieve accuracy more than 80.0% with the present set of hyperparameters. Accuracy could be increased by experimenting with a wider variety of learning rates, epochs, or investigating more complex models. Better model performance may also result from feature engineering or from resolving possible problems with the quality of the available data.\n",
        "<br>\n",
        "D. Value of Additional Epochs of Training:\n",
        "Accuracy is not always improved by increasing the number of epochs. There may occasionally be a slight improvement at first, but eventually overfitting or negligible improvements may result from continued training. In order to avoid needless computation, it is vital to keep an eye on the validation/test correctness and think about ending early. Plotting accuracy versus the total number of epochs may help determine the ideal length of training.\n",
        "Plotting the performance patterns, such as learning curves or hyperparameter heatmaps, would be helpful for a more thorough examination. These graphics may help clarify how the model behaves when various hyperparameter combinations are combined and direct future optimization efforts.\n",
        "\n",
        "\n"
      ],
      "metadata": {
        "id": "38rA_Kp3wiBX"
      }
    }
  ],
  "metadata": {
    "accelerator": "GPU",
    "colab": {
      "provenance": [],
      "include_colab_link": true
    },
    "kernelspec": {
      "display_name": "Python 3",
      "name": "python3"
    },
    "language_info": {
      "codemirror_mode": {
        "name": "ipython",
        "version": 3
      },
      "file_extension": ".py",
      "mimetype": "text/x-python",
      "name": "python",
      "nbconvert_exporter": "python",
      "pygments_lexer": "ipython3",
      "version": "3.8.8"
    }
  },
  "nbformat": 4,
  "nbformat_minor": 0
}